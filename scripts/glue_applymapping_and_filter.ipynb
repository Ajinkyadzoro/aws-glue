{
 "cells": [
  {
   "cell_type": "code",
   "execution_count": 5,
   "metadata": {},
   "outputs": [],
   "source": [
    "import sys\n",
    "from pyspark.context import SparkContext\n",
    "from awsglue.context import GlueContext\n",
    "from awsglue.transforms import *\n",
    "from awsglue.dynamicframe import DynamicFrame\n",
    "from pyspark.sql.types import *\n",
    "from pyspark.sql import Row\n",
    "from pyspark.sql import SparkSession\n",
    "spark = SparkSession.builder.appName('abc').getOrCreate()\n",
    "glueContext = GlueContext(SparkContext.getOrCreate())"
   ]
  },
  {
   "cell_type": "code",
   "execution_count": 2,
   "metadata": {},
   "outputs": [],
   "source": [
    "order_list = [\n",
    "               ['1005', '623', 'YES', '1418901234', '75091'],\\\n",
    "               ['1006', '547', 'NO', '1418901256', '75034'],\\\n",
    "               ['1007', '823', 'YES', '1418901300', '75023'],\\\n",
    "               ['1008', '912', 'NO', '1418901400', '82091'],\\\n",
    "               ['1009', '321', 'YES', '1418902000', '90093']\\\n",
    "             ]\n",
    "\n",
    "# Define schema for the order_list\n",
    "order_schema = StructType([  \n",
    "                      StructField(\"order_id\", StringType()),\n",
    "                      StructField(\"customer_id\", StringType()),\n",
    "                      StructField(\"essential_item\", StringType()),\n",
    "                      StructField(\"timestamp\", StringType()),\n",
    "                      StructField(\"zipcode\", StringType())\n",
    "                    ])"
   ]
  },
  {
   "cell_type": "code",
   "execution_count": 6,
   "metadata": {},
   "outputs": [
    {
     "name": "stderr",
     "output_type": "stream",
     "text": [
      "/usr/local/lib/python3.6/importlib/_bootstrap.py:219: RuntimeWarning: numpy.dtype size changed, may indicate binary incompatibility. Expected 96, got 88\n",
      "  return f(*args, **kwds)\n",
      "/usr/local/lib/python3.6/importlib/_bootstrap.py:219: RuntimeWarning: numpy.dtype size changed, may indicate binary incompatibility. Expected 96, got 88\n",
      "  return f(*args, **kwds)\n"
     ]
    }
   ],
   "source": [
    "df_orders = spark.createDataFrame(order_list, schema = order_schema)\n"
   ]
  },
  {
   "cell_type": "code",
   "execution_count": 7,
   "metadata": {},
   "outputs": [
    {
     "name": "stdout",
     "output_type": "stream",
     "text": [
      "+--------+-----------+--------------+----------+-------+\n",
      "|order_id|customer_id|essential_item| timestamp|zipcode|\n",
      "+--------+-----------+--------------+----------+-------+\n",
      "|    1005|        623|           YES|1418901234|  75091|\n",
      "|    1006|        547|            NO|1418901256|  75034|\n",
      "|    1007|        823|           YES|1418901300|  75023|\n",
      "|    1008|        912|            NO|1418901400|  82091|\n",
      "|    1009|        321|           YES|1418902000|  90093|\n",
      "+--------+-----------+--------------+----------+-------+\n",
      "\n"
     ]
    }
   ],
   "source": [
    "df_orders.show()"
   ]
  },
  {
   "cell_type": "code",
   "execution_count": 8,
   "metadata": {},
   "outputs": [],
   "source": [
    "dyf_orders = DynamicFrame.fromDF(df_orders, glueContext, \"dyf\") \n"
   ]
  },
  {
   "cell_type": "code",
   "execution_count": 15,
   "metadata": {},
   "outputs": [
    {
     "name": "stdout",
     "output_type": "stream",
     "text": [
      "+--------+-----------+--------------+----------+-------+\n",
      "|order_id|customer_id|essential_item| timestamp|zipcode|\n",
      "+--------+-----------+--------------+----------+-------+\n",
      "|    1005|        623|           YES|1418901234|  75091|\n",
      "|    1006|        547|            NO|1418901256|  75034|\n",
      "|    1007|        823|           YES|1418901300|  75023|\n",
      "|    1008|        912|            NO|1418901400|  82091|\n",
      "|    1009|        321|           YES|1418902000|  90093|\n",
      "+--------+-----------+--------------+----------+-------+\n",
      "\n"
     ]
    }
   ],
   "source": [
    "dyf_orders.toDF().show()"
   ]
  },
  {
   "cell_type": "code",
   "execution_count": 14,
   "metadata": {},
   "outputs": [
    {
     "name": "stdout",
     "output_type": "stream",
     "text": [
      "root\n",
      "|-- order_id: long\n",
      "|-- customer_id: long\n",
      "|-- essential_item: string\n",
      "|-- timestamp: long\n",
      "|-- zip: long\n",
      "\n"
     ]
    }
   ],
   "source": [
    "dyf_applyMapping = ApplyMapping.apply( frame = dyf_orders, mappings = [ \n",
    "  (\"order_id\",\"String\",\"order_id\",\"Long\"), \n",
    "  (\"customer_id\",\"String\",\"customer_id\",\"Long\"),\n",
    "  (\"essential_item\",\"String\",\"essential_item\",\"String\"),\n",
    "  (\"timestamp\",\"String\",\"timestamp\",\"Long\"),\n",
    "  (\"zipcode\",\"String\",\"zip\",\"Long\")\n",
    "])\n",
    "\n",
    "dyf_applyMapping.printSchema()"
   ]
  },
  {
   "cell_type": "code",
   "execution_count": 16,
   "metadata": {},
   "outputs": [
    {
     "name": "stdout",
     "output_type": "stream",
     "text": [
      "+--------------+-----------+-----+----------+--------+\n",
      "|essential_item|customer_id|  zip| timestamp|order_id|\n",
      "+--------------+-----------+-----+----------+--------+\n",
      "|           YES|        623|75091|1418901234|    1005|\n",
      "|           YES|        823|75023|1418901300|    1007|\n",
      "|           YES|        321|90093|1418902000|    1009|\n",
      "+--------------+-----------+-----+----------+--------+\n",
      "\n"
     ]
    }
   ],
   "source": [
    "dyf_filter = Filter.apply(frame = dyf_applyMapping, f = lambda x: x[\"essential_item\"] == 'YES')\n",
    "\n",
    "dyf_filter.toDF().show()"
   ]
  }
 ],
 "metadata": {
  "kernelspec": {
   "display_name": "Python 3",
   "language": "python",
   "name": "python3"
  },
  "language_info": {
   "codemirror_mode": {
    "name": "ipython",
    "version": 3
   },
   "file_extension": ".py",
   "mimetype": "text/x-python",
   "name": "python",
   "nbconvert_exporter": "python",
   "pygments_lexer": "ipython3",
   "version": "3.6.10"
  }
 },
 "nbformat": 4,
 "nbformat_minor": 4
}
